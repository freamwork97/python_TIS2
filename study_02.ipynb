{
 "cells": [
  {
   "cell_type": "markdown",
   "metadata": {},
   "source": [
    "# 자료형\n",
    "1. 문자열 (string)\n",
    "    - 작은 따옴표 or 큰 따옴표로 표현\n",
    "2. 숫자형\n",
    "    - integer(정수)\n",
    "    - float(실수)\n",
    "    - 출력할 때 소수점이 있으면, float, 없으면 integer\n",
    "3. Boolean\n",
    "    - 참 거짓을 표현\n",
    "    - True(참) / False(거짓)\n",
    "4. NoneType\n",
    "    - 값이 없는 자료형\n",
    "    - NoneType 자료형의 객체들은 모두 None값을 가진다.\n",
    "    - 함수가 반환하는 값이 없으면 None을 반환\n",
    "5. type() : 자료형 확인\n",
    "    - input() 함수는 문자열을 반환한다.\n",
    "```python\n",
    "print(type(1))\n",
    "print(type(1.2))\n",
    "```\n",
    "6. 문자열 연산자 (String operators)\n",
    "    - X in str : x 문자열이 str 문자열 안에 있는지 Boolean을 반환\n",
    "    - X not in str : X 문자열이 str 문자열 안에 없는지 Boolean을 반환\n",
    "    - str1 + str2 : 두 문자열을 합쳐서 문자열을 반환\n",
    "    - str * n / n * str : str 문자열을 n번 합쳐서 반환\n",
    "    - len() : 문자열의 길이를 정수형으로 반환\n",
    "    - 형변화 (type casting) : 인수의 타입을 바꿔서 다른 자료형의 객체로 반환\n",
    "7. 문자열 메소드 (String methods) : 메소드는 각 객체 타입을 위해 기본적으로 제공되는 함수\n",
    "    - str1.replace(str2, str3) : str1 안에 있는 모든 str2를 str3으로 대체\n",
    "    - str.strip() : 문자열 맨 왼쪽과 오른쪽에 연속으로 나오는 공백을 제거\n",
    "8. 숫자 연산자 및 메소드\n",
    "    - abs(x) : x의 절대값\n",
    "    - pow(x,y) : x의 제곱 (**연산과 동일)\n",
    "    - max() : 최대값\n",
    "    - min() : 최소값\n",
    "9. Boolean\n",
    "\n",
    "| bool1 | bool2 | bool1 or bool2 | bool1 and bool2|\n",
    "| - | - | - | - |\n",
    "| True | True | True | True |\n",
    "| True | False | True | False |\n",
    "| False | True | True | False |\n",
    "|False | False | False | False |\n",
    "\n"
   ]
  },
  {
   "cell_type": "code",
   "execution_count": 1,
   "metadata": {},
   "outputs": [
    {
     "name": "stdout",
     "output_type": "stream",
     "text": [
      "Hello\n",
      "world!\n"
     ]
    }
   ],
   "source": [
    "print('Hello\\nworld!') # \\n 줄바꿈"
   ]
  },
  {
   "cell_type": "code",
   "execution_count": 2,
   "metadata": {},
   "outputs": [
    {
     "name": "stdout",
     "output_type": "stream",
     "text": [
      "Hello\tworld!\n"
     ]
    }
   ],
   "source": [
    "print(\"Hello\\tworld!\") # \\t 탭"
   ]
  },
  {
   "cell_type": "code",
   "execution_count": 3,
   "metadata": {},
   "outputs": [
    {
     "name": "stdout",
     "output_type": "stream",
     "text": [
      "Last\n",
      "ext!\n",
      "Last\\next!\n"
     ]
    }
   ],
   "source": [
    "print('Last\\next!')\n",
    "print('Last\\\\next!') # \\\\ 백슬래쉬"
   ]
  },
  {
   "cell_type": "code",
   "execution_count": 6,
   "metadata": {},
   "outputs": [
    {
     "name": "stdout",
     "output_type": "stream",
     "text": [
      "\"Hello!\"\n"
     ]
    }
   ],
   "source": [
    "print(\"\\\"Hello!\\\"\") # \\\" 큰 따옴표  \\' 작은 따옴표"
   ]
  },
  {
   "cell_type": "code",
   "execution_count": 7,
   "metadata": {},
   "outputs": [
    {
     "name": "stdout",
     "output_type": "stream",
     "text": [
      "6\n",
      "4.25\n"
     ]
    }
   ],
   "source": [
    "print(3 + 3) # integer 결과\n",
    "print(17/ 4) # float 결과"
   ]
  },
  {
   "cell_type": "code",
   "execution_count": 8,
   "metadata": {},
   "outputs": [
    {
     "name": "stdout",
     "output_type": "stream",
     "text": [
      "True\n",
      "False\n"
     ]
    }
   ],
   "source": [
    "# Boolean\n",
    "print(True) # 참\n",
    "print(False) # 거짓"
   ]
  },
  {
   "cell_type": "code",
   "execution_count": 9,
   "metadata": {},
   "outputs": [
    {
     "name": "stdout",
     "output_type": "stream",
     "text": [
      "Hello world\n",
      "None\n"
     ]
    }
   ],
   "source": [
    "print(print('Hello world')) # print() 함수의 반환 값은 None"
   ]
  },
  {
   "cell_type": "code",
   "execution_count": 10,
   "metadata": {},
   "outputs": [
    {
     "name": "stdout",
     "output_type": "stream",
     "text": [
      "<class 'int'>\n",
      "<class 'float'>\n",
      "<class 'bool'>\n",
      "<class 'bool'>\n",
      "<class 'str'>\n",
      "<class 'NoneType'>\n",
      "<class 'str'>\n"
     ]
    }
   ],
   "source": [
    "print(type(1))\n",
    "print(type(1.2))\n",
    "print(type(True))\n",
    "print(type(False))\n",
    "print(type('Hello'))\n",
    "print(type(None))\n",
    "print(type('1.4'))"
   ]
  },
  {
   "cell_type": "code",
   "execution_count": 11,
   "metadata": {},
   "outputs": [
    {
     "name": "stdout",
     "output_type": "stream",
     "text": [
      "5.33\n"
     ]
    }
   ],
   "source": [
    "num = 5.33\n",
    "print(f'{num}')"
   ]
  }
 ],
 "metadata": {
  "kernelspec": {
   "display_name": "study",
   "language": "python",
   "name": "python3"
  },
  "language_info": {
   "codemirror_mode": {
    "name": "ipython",
    "version": 3
   },
   "file_extension": ".py",
   "mimetype": "text/x-python",
   "name": "python",
   "nbconvert_exporter": "python",
   "pygments_lexer": "ipython3",
   "version": "3.11.7"
  }
 },
 "nbformat": 4,
 "nbformat_minor": 2
}

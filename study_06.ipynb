{
 "cells": [
  {
   "cell_type": "markdown",
   "metadata": {},
   "source": [
    "# 반복문\n",
    "\n",
    "### for문\n",
    "\n",
    "```python\n",
    "for 반복문 in 반복가능한 객체:\n",
    "    코드\n",
    "```\n",
    "- 반복문의 역할과 중요성\n",
    "    1. 자동화 : 반복문을 통하여 동일하거나 유사한 작업을 여러 번 자동으로 수행\n",
    "    2. 코드 효율성 : 복잡한 작업을 간결하게 처리하여 코드의 양을 줄이고 가독성 향상\n",
    "    3. 이터러블데이터 처리 : 리스트, 튜플, 문자열 등의 다양한 데이터 컬렉션을 효율적으로 처리 \n",
    "    4. 유연한 사용 : for 와 while을 각각 문제에 따라 적절하게 선택하여 사용\n",
    "- 이중 for문 구조\n",
    "    - 중첩된 for 반복문은 하나의 for 반복문 안에 다른 for 반복문이 포함되어 있는 구조\n",
    "    ```python\n",
    "    for 외부_반복자 in 외부_반복_범위:\n",
    "        # 외부 반복 작업\n",
    "        for 내부_반복자 in 내부_반복_범위:\n",
    "            #내부 반복 작업\n",
    "    ```\n",
    "    - 사용처\n",
    "        1. 다차원 데이터 구조 다룰 때 사용\n",
    "        2. 복잡한 데이터 처리\n",
    "        3. 특정 알고리즘 구현 ex) 정렬이나 검색 알고리즘\n",
    "\n",
    "### while문\n",
    "```python\n",
    "while 조건:\n",
    "    # 반복 실행할 코드\n",
    "```\n",
    "- while문은 주어진 조건이 참(True)인 동안 코드 블록을 반복 실행\n",
    "- 조건이 항상 참이기에 무한루프에 주의해야한다.\n",
    "### break\n",
    "- 반복문 내에서 사용, 실행되는 순간 해당 반복문 즉시 종료\n",
    "- 조건문과 함께 사용되어 특정 조건 충족시 반복문 탈출하는 데 사용\n",
    "```python\n",
    "while 조건:\n",
    "    # 반복 실행할 코드\n",
    "    if 탈출_조건:\n",
    "        break # 탈출 조건 충족시 반복문 종료\n",
    "```\n",
    "### continue\n",
    "- 실행되는 순간 해당 반복의 나머지 부분을 건너뛰고 다음 반복을 진행\n",
    "- 반복문의 일부 조건을 건너뛰고 싶을 때 유용\n",
    "```python\n",
    "while 조건:\n",
    "    # 반복 실행할 코드\n",
    "    if 건너뛸_조건:\n",
    "        continue # 해당 조건시 이번 반복의 나머지 부분을 건너뜀\n",
    "    # 다른 실행 코드\n",
    "```\n",
    "### range()\n",
    "- 지정된 시작점부터 종료점까지의 일련의 숫자를 생성\n",
    "- step 설정 가능\n",
    "```python\n",
    "range(end) # 0부터 종료-1까지의 숫자\n",
    "range(start, end) # 시작부터 종료-1까지의 숫자\n",
    "range(start, end, step) # 시작부터 종료-1까지 증가치만큼 증가하는 숫자\n",
    "```\n",
    "- 주로 반복문과 함께 사용\n",
    "- 특정 횟수만큼 반복 실행하거나, 특정 범위의 숫자를 순회할 때 사용\n",
    "### enumerate()\n",
    "- 반복 가능한 객체를 인덱스와 함께 순회할 때 사용\n",
    "```python\n",
    "enumerate(반복객체, 시작인덱스=0)\n",
    "```\n",
    "- 리스트, 튜플 등의 객체를 순회하면서, 해당 element의 인덱스가 필요할 때 주로 사용"
   ]
  },
  {
   "cell_type": "code",
   "execution_count": 2,
   "metadata": {},
   "outputs": [
    {
     "name": "stdout",
     "output_type": "stream",
     "text": [
      "[2, 4, 6, 8, 10]\n",
      "[1, 3, 5, 7, 9]\n"
     ]
    }
   ],
   "source": [
    "evens = []\n",
    "odds = []\n",
    "for number in range(1, 11):\n",
    "    if number % 2 == 0:\n",
    "        evens.append(number)\n",
    "    else:\n",
    "        odds.append(number)\n",
    "\n",
    "print(evens)\n",
    "print(odds)"
   ]
  },
  {
   "cell_type": "code",
   "execution_count": 3,
   "metadata": {},
   "outputs": [
    {
     "name": "stdout",
     "output_type": "stream",
     "text": [
      "1 x 1 = 1\n",
      "1 x 2 = 2\n",
      "1 x 3 = 3\n",
      "1 x 4 = 4\n",
      "1 x 5 = 5\n",
      "1 x 6 = 6\n",
      "1 x 7 = 7\n",
      "1 x 8 = 8\n",
      "1 x 9 = 9\n",
      "2 x 1 = 2\n",
      "2 x 2 = 4\n",
      "2 x 3 = 6\n",
      "2 x 4 = 8\n",
      "2 x 5 = 10\n",
      "2 x 6 = 12\n",
      "2 x 7 = 14\n",
      "2 x 8 = 16\n",
      "2 x 9 = 18\n",
      "3 x 1 = 3\n",
      "3 x 2 = 6\n",
      "3 x 3 = 9\n",
      "3 x 4 = 12\n",
      "3 x 5 = 15\n",
      "3 x 6 = 18\n",
      "3 x 7 = 21\n",
      "3 x 8 = 24\n",
      "3 x 9 = 27\n",
      "4 x 1 = 4\n",
      "4 x 2 = 8\n",
      "4 x 3 = 12\n",
      "4 x 4 = 16\n",
      "4 x 5 = 20\n",
      "4 x 6 = 24\n",
      "4 x 7 = 28\n",
      "4 x 8 = 32\n",
      "4 x 9 = 36\n",
      "5 x 1 = 5\n",
      "5 x 2 = 10\n",
      "5 x 3 = 15\n",
      "5 x 4 = 20\n",
      "5 x 5 = 25\n",
      "5 x 6 = 30\n",
      "5 x 7 = 35\n",
      "5 x 8 = 40\n",
      "5 x 9 = 45\n",
      "6 x 1 = 6\n",
      "6 x 2 = 12\n",
      "6 x 3 = 18\n",
      "6 x 4 = 24\n",
      "6 x 5 = 30\n",
      "6 x 6 = 36\n",
      "6 x 7 = 42\n",
      "6 x 8 = 48\n",
      "6 x 9 = 54\n",
      "7 x 1 = 7\n",
      "7 x 2 = 14\n",
      "7 x 3 = 21\n",
      "7 x 4 = 28\n",
      "7 x 5 = 35\n",
      "7 x 6 = 42\n",
      "7 x 7 = 49\n",
      "7 x 8 = 56\n",
      "7 x 9 = 63\n",
      "8 x 1 = 8\n",
      "8 x 2 = 16\n",
      "8 x 3 = 24\n",
      "8 x 4 = 32\n",
      "8 x 5 = 40\n",
      "8 x 6 = 48\n",
      "8 x 7 = 56\n",
      "8 x 8 = 64\n",
      "8 x 9 = 72\n",
      "9 x 1 = 9\n",
      "9 x 2 = 18\n",
      "9 x 3 = 27\n",
      "9 x 4 = 36\n",
      "9 x 5 = 45\n",
      "9 x 6 = 54\n",
      "9 x 7 = 63\n",
      "9 x 8 = 72\n",
      "9 x 9 = 81\n"
     ]
    }
   ],
   "source": [
    "for i in range(1, 10):\n",
    "    for j in range(1, 10):\n",
    "        print(f\"{i} x {j} = {i*j}\")"
   ]
  },
  {
   "cell_type": "code",
   "execution_count": 4,
   "metadata": {},
   "outputs": [
    {
     "name": "stdout",
     "output_type": "stream",
     "text": [
      "{1, 2, 5}\n"
     ]
    }
   ],
   "source": [
    "lst = [1, 2, 3, 2, 1, 5, 6, 5, 5, 7]\n",
    "duplicated = set()\n",
    "for i in range(len(lst)):\n",
    "    for j in range(i + 1, len(lst)):\n",
    "        if lst[i] == lst[j]:\n",
    "            duplicated.add(lst[i])\n",
    "print(duplicated)"
   ]
  },
  {
   "cell_type": "code",
   "execution_count": 5,
   "metadata": {},
   "outputs": [
    {
     "name": "stdout",
     "output_type": "stream",
     "text": [
      "입력된 메시지: I love python\n"
     ]
    }
   ],
   "source": [
    "while True:\n",
    "    user_input = input(\"메시지를 입력하세요 (종료하려면 '종료' 입력): \")\n",
    "    if user_input == \"종료\":\n",
    "        break\n",
    "    print(f\"입력된 메시지: {user_input}\")"
   ]
  },
  {
   "cell_type": "code",
   "execution_count": 6,
   "metadata": {},
   "outputs": [
    {
     "name": "stdout",
     "output_type": "stream",
     "text": [
      "5\n",
      "4\n",
      "3\n",
      "2\n",
      "1\n",
      "0\n",
      "카운트다운 종료!\n"
     ]
    }
   ],
   "source": [
    "import time\n",
    "input_number = int(input(\"카운트다운을 시작할 숫자를 입력하세요: \"))\n",
    "while input_number >= 0:\n",
    "    time.sleep(1)\n",
    "    print(input_number)\n",
    "    input_number -= 1 # 숫자 감소\n",
    "print(\"카운트다운 종료!\") "
   ]
  },
  {
   "cell_type": "code",
   "execution_count": 7,
   "metadata": {},
   "outputs": [
    {
     "name": "stdout",
     "output_type": "stream",
     "text": [
      "입력된 message: I love python\n"
     ]
    }
   ],
   "source": [
    "#  사용자가 '종료'라고 입력할 때까지 메시지를 출력하는 예제\n",
    "while True:\n",
    "    message = input(\"message를 입력하세요 (종료하려면 '종료' 입력): \")\n",
    "    if message == \"종료\":\n",
    "        break\n",
    "    print(f\"입력된 message: {message}\")"
   ]
  },
  {
   "cell_type": "code",
   "execution_count": 8,
   "metadata": {},
   "outputs": [
    {
     "name": "stdout",
     "output_type": "stream",
     "text": [
      "1\n",
      "3\n",
      "5\n",
      "7\n",
      "9\n"
     ]
    }
   ],
   "source": [
    "# 1부터 10까지 숫자 중에서 홀수만 출력하는 예제\n",
    "for number in range(1, 11):\n",
    "    if number % 2 == 0: # 짝수인 경우\n",
    "        continue # 다음 반복으로 넘어감\n",
    "    print(number) # 홀수만 출력\n"
   ]
  },
  {
   "cell_type": "code",
   "execution_count": 9,
   "metadata": {},
   "outputs": [
    {
     "name": "stdout",
     "output_type": "stream",
     "text": [
      "1\n",
      "2\n",
      "3\n",
      "4\n",
      "5\n",
      "6\n",
      "7\n",
      "8\n",
      "9\n",
      "10\n"
     ]
    }
   ],
   "source": [
    "# 1부터 10까지의 숫자 출력\n",
    "for i in range(1, 11):\n",
    "    print(i)"
   ]
  },
  {
   "cell_type": "code",
   "execution_count": 10,
   "metadata": {},
   "outputs": [
    {
     "name": "stdout",
     "output_type": "stream",
     "text": [
      "5\n",
      "10\n",
      "15\n",
      "20\n",
      "25\n",
      "30\n",
      "35\n",
      "40\n",
      "45\n",
      "50\n"
     ]
    }
   ],
   "source": [
    "# 5부터 50까지 5씩 증가하는 숫자 출력\n",
    "for i in range(5, 51, 5):\n",
    "    print(i)"
   ]
  },
  {
   "cell_type": "code",
   "execution_count": 12,
   "metadata": {},
   "outputs": [
    {
     "name": "stdout",
     "output_type": "stream",
     "text": [
      "index 0: 사과\n",
      "index 1: 바나나\n",
      "index 2: 체리\n"
     ]
    }
   ],
   "source": [
    "# 리스트의 element와 그 인덱스를 출력\n",
    "fruits = ['사과', '바나나', '체리']\n",
    "for index, fruit in enumerate(fruits):\n",
    "    print(f\"index {index}: {fruit}\")"
   ]
  },
  {
   "cell_type": "code",
   "execution_count": 13,
   "metadata": {},
   "outputs": [
    {
     "name": "stdout",
     "output_type": "stream",
     "text": [
      "index 1: 사과\n",
      "index 2: 바나나\n",
      "index 3: 체리\n"
     ]
    }
   ],
   "source": [
    "# 시작 인덱스를 1로 설정하여 순회\n",
    "for index, fruit in enumerate(fruits, 1):\n",
    "    print(f\"index {index}: {fruit}\")"
   ]
  }
 ],
 "metadata": {
  "kernelspec": {
   "display_name": "study",
   "language": "python",
   "name": "python3"
  },
  "language_info": {
   "codemirror_mode": {
    "name": "ipython",
    "version": 3
   },
   "file_extension": ".py",
   "mimetype": "text/x-python",
   "name": "python",
   "nbconvert_exporter": "python",
   "pygments_lexer": "ipython3",
   "version": "3.11.7"
  }
 },
 "nbformat": 4,
 "nbformat_minor": 2
}

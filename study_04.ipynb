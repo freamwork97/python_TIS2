{
 "cells": [
  {
   "cell_type": "markdown",
   "metadata": {},
   "source": [
    "# 딕셔너리(dictionary)\n",
    "- 백과사전을 볼 때 키워드와 내용이 담겨있는 것처럼\n",
    "- key : value로 이루어져 있다.\n",
    "- {key1 : value1, ket2 : value2, ....}\n",
    "- 리스트[] 튜플() 딕셔너리{}\n",
    "- key를 검색하여 value를 조회하는 것이 일반적이다.\n",
    "# 세트(set)\n",
    "- 집합 자료형은 set으로 표기\n",
    "- 동일한 원소를 중복하여 가질 수 없다.\n",
    "- 딕셔너리와 다르게 단일 값들을 가진다.\n",
    "- 집합 (intersection): & 연산자 혹은 intersection 메소드 사용\n",
    "- 합집합 (union): | 연산자 혹은 union 메소드 사용\n",
    "- 차집합 (difference): - 연산자 혹은 difference 메소드 사용\n",
    "- 대칭차집합 (symmetric difference): ^ 혹은 symmetric_difference 메소드 사용\n",
    "- 리스트와 튜플로 형변환이 가능"
   ]
  },
  {
   "cell_type": "code",
   "execution_count": 1,
   "metadata": {},
   "outputs": [],
   "source": [
    "my_first_dict = {'Name' : 'Ho', 'Birth year' : 2023, 4.9:{'Hi': {'Hello'}}, ('Bongjour') : ['안녕']}"
   ]
  },
  {
   "cell_type": "code",
   "execution_count": 2,
   "metadata": {},
   "outputs": [
    {
     "name": "stdout",
     "output_type": "stream",
     "text": [
      "{'Name': 'Ho', 'Birth year': 2023, 4.9: {'Hi': {'Hello'}}, 'Bongjour': ['안녕']}\n",
      "<class 'dict'>\n"
     ]
    }
   ],
   "source": [
    "print(my_first_dict)\n",
    "print(type(my_first_dict))"
   ]
  },
  {
   "cell_type": "code",
   "execution_count": 8,
   "metadata": {},
   "outputs": [
    {
     "name": "stdout",
     "output_type": "stream",
     "text": [
      "{0: 1}\n",
      "{'Ho': 9, 'Kui': 4}\n"
     ]
    }
   ],
   "source": [
    "yes_tuple_key = {(0) : 1}\n",
    "print(yes_tuple_key)\n",
    "age = {'Ho' : 9}\n",
    "age['Kui'] =4\n",
    "print(age)"
   ]
  },
  {
   "cell_type": "code",
   "execution_count": 9,
   "metadata": {},
   "outputs": [
    {
     "name": "stdout",
     "output_type": "stream",
     "text": [
      "{'Kui': 4}\n"
     ]
    }
   ],
   "source": [
    "del age['Ho']\n",
    "print(age)"
   ]
  },
  {
   "cell_type": "code",
   "execution_count": 15,
   "metadata": {},
   "outputs": [
    {
     "name": "stdout",
     "output_type": "stream",
     "text": [
      "{'Kui': 4, ':Ho': 10, 'Ho': 10}\n"
     ]
    }
   ],
   "source": [
    "age['Ho'] = 10\n",
    "print(age)"
   ]
  },
  {
   "cell_type": "code",
   "execution_count": 14,
   "metadata": {},
   "outputs": [
    {
     "name": "stdout",
     "output_type": "stream",
     "text": [
      "{'Kui': 4, ':Ho': 10}\n"
     ]
    }
   ],
   "source": [
    "age_dict = {'Nubzuki': 8, 'Nubzuki' : 9, 'Nubzuki': 10 }\n",
    "print(age)"
   ]
  },
  {
   "cell_type": "code",
   "execution_count": 17,
   "metadata": {},
   "outputs": [
    {
     "name": "stdout",
     "output_type": "stream",
     "text": [
      "dict_keys(['Ho', 'Kui', 'Daro'])\n",
      "dict_values([9, 25, 53])\n",
      "dict_items([('Ho', 9), ('Kui', 25), ('Daro', 53)])\n",
      "No key, "
     ]
    }
   ],
   "source": [
    "age = {'Ho': 9, 'Kui' : 25, 'Daro' : 53}\n",
    "print(age.keys())\n",
    "print(age.values())\n",
    "print(age.items())\n",
    "print(age.get('kui','No key'), end=\", \")"
   ]
  },
  {
   "cell_type": "code",
   "execution_count": 18,
   "metadata": {},
   "outputs": [
    {
     "name": "stdout",
     "output_type": "stream",
     "text": [
      "No key, "
     ]
    }
   ],
   "source": [
    "print(age.get('Santa', 'No key'), end = ', ')"
   ]
  },
  {
   "cell_type": "code",
   "execution_count": 20,
   "metadata": {},
   "outputs": [
    {
     "name": "stdout",
     "output_type": "stream",
     "text": [
      "True, False\n"
     ]
    }
   ],
   "source": [
    "# in 연산자로 key가 존재하는 지 확인 가능\n",
    "print('Kui' in age, end = ', ')\n",
    "print('Santa' in age)"
   ]
  },
  {
   "cell_type": "code",
   "execution_count": 21,
   "metadata": {},
   "outputs": [
    {
     "name": "stdout",
     "output_type": "stream",
     "text": [
      "{'name': 'K', 'Age': 22, 'trait': ['cute', 'adorable', 'smart'], 'phone': None}\n",
      "{'trait': ['cute', 'adorable', 'smart'], 'phone': None, 'name': 'K', 'Age': 22}\n"
     ]
    }
   ],
   "source": [
    "k = {'name' : 'K', 'Age': 22}\n",
    "temp_dict = {'trait' : ['cute', 'adorable', 'smart'], 'phone' : None}\n",
    "\n",
    "print({**k, **temp_dict})\n",
    "print({**temp_dict, **k })"
   ]
  },
  {
   "cell_type": "code",
   "execution_count": 22,
   "metadata": {},
   "outputs": [
    {
     "name": "stdout",
     "output_type": "stream",
     "text": [
      "{'name': 'K', 'Age': 22}\n",
      "{'name': 'K', 'Age': 22, 'trait': ['cute', 'adorable', 'smart'], 'phone': None}\n"
     ]
    }
   ],
   "source": [
    "print(k)\n",
    "k.update(temp_dict)\n",
    "print(k)"
   ]
  },
  {
   "cell_type": "code",
   "execution_count": 24,
   "metadata": {},
   "outputs": [
    {
     "name": "stdout",
     "output_type": "stream",
     "text": [
      "{'name': 'Hwanho', 'age': 25}\n",
      "{'element3', 'element2', 'element1'}\n"
     ]
    }
   ],
   "source": [
    "korea_university_mascort= {\"name\": \"Hwanho\", \"age\": 25}\n",
    "my_first_set = {\"element1\", \"element2\", \"element3\"}\n",
    "print(korea_university_mascort)\n",
    "print(my_first_set)"
   ]
  },
  {
   "cell_type": "code",
   "execution_count": 25,
   "metadata": {},
   "outputs": [
    {
     "name": "stdout",
     "output_type": "stream",
     "text": [
      "{'Hello'}\n",
      "{'H', 'l', 'e', 'o'}\n",
      "{'l', 'o', 'H', 'e', 'd'}\n"
     ]
    }
   ],
   "source": [
    "hello_set = {\"Hello\"} # 집합 객체 초기화\n",
    "hello2_set = set(\"Hello\") # 문자열의 각 문자를 집합의 원소로 간주\n",
    "print(hello_set)\n",
    "print(hello2_set) # 집합 내 원소의 unordered 특성\n",
    "hello2_set.add(\"d\") # add: 집합에 원소 한개 추가\n",
    "print(hello2_set)"
   ]
  },
  {
   "cell_type": "code",
   "execution_count": 26,
   "metadata": {},
   "outputs": [
    {
     "name": "stdout",
     "output_type": "stream",
     "text": [
      "{'l', 'o', 'H', 'e', 'f', 'd'}\n",
      "{'o', 'H', 'e', 'f', 'd'}\n"
     ]
    }
   ],
   "source": [
    "hello_set = {\"Hello\"} # 집합 객체 초기화\n",
    "hello2_set.update(\"e\", \"f\") # update: 원소 여러개 추가\n",
    "print(hello2_set)\n",
    "hello2_set.remove(\"l\") # remove: 원소 한개 제거\n",
    "print(hello2_set)"
   ]
  },
  {
   "cell_type": "code",
   "execution_count": 27,
   "metadata": {},
   "outputs": [
    {
     "name": "stdout",
     "output_type": "stream",
     "text": [
      "{3, 4, 5.0}\n",
      "{3, 4, 5.0}\n",
      "{1, 2, 3, 4, 5.0, 6, '7'}\n",
      "{1, 2, 3, 4, 5.0, 6, '7'}\n"
     ]
    }
   ],
   "source": [
    "set1 = set([1, 2, 3, 4, 5.0]) # 리스트 객체의 형변환\n",
    "set2 = set([3, 4, 5.0, 5, 6, \"7\"]) # 집합에서는 수학적으로 값이 같으면 동일 원소로 간주\n",
    "print(set1 & set2) # 교집합 - 연산자\n",
    "print(set1.intersection(set2)) # 교집합 - 메소드\n",
    "print(set1 | set2) # 합집합 - 연산자\n",
    "print(set1.union(set2)) # 합집합 - 메소드"
   ]
  },
  {
   "cell_type": "code",
   "execution_count": 28,
   "metadata": {},
   "outputs": [
    {
     "name": "stdout",
     "output_type": "stream",
     "text": [
      "{1, 2}\n",
      "{6, '7'}\n",
      "{1, 2}\n",
      "{6, '7'}\n",
      "{1, 2, 6, '7'}\n",
      "{1, 2, 6, '7'}\n",
      "{1, 2, 6, '7'}\n"
     ]
    }
   ],
   "source": [
    "set1 = set([1, 2, 3, 4, 5.0]) # 리스트 객체의 형변환\n",
    "set2 = set([3, 4, 5.0, 5, 6, \"7\"])\n",
    "print(set1 - set2) # 차집합 - 연산자 (1)\n",
    "print(set2 - set1) # 차집합 - 연산자 (2)\n",
    "print(set1.difference(set2)) # 차집합 - 메소드 (1)\n",
    "print(set2.difference(set1)) # 차집합 - 메소드 (2)\n",
    "print(set1 ^ set2) # 대칭차집합 - 연산자\n",
    "print(set1.symmetric_difference(set2)) # 대칭차집합 - 메소드\n",
    "print((set1 | set2) - (set1 & set2)) # 위와 동치"
   ]
  },
  {
   "cell_type": "code",
   "execution_count": 33,
   "metadata": {},
   "outputs": [
    {
     "name": "stdout",
     "output_type": "stream",
     "text": [
      "<class 'tuple'>\n",
      "<class 'list'>\n",
      "<class 'tuple'>\n",
      "<class 'list'>\n",
      "<class 'set'>\n"
     ]
    }
   ],
   "source": [
    "my_set = {1, (2,), 3.0, \"a\"}\n",
    "my_dict = {1: (2), 3.0: \"a\"}\n",
    "my_tuple = tuple(my_set) # 집합 -> 튜플\n",
    "print(type(my_tuple))\n",
    "my_list = list(my_set) # 집합 -> 리스트\n",
    "print(type(my_list))\n",
    "my_tuple = tuple(my_dict) # 사전 -> 튜플\n",
    "print(type(my_tuple))\n",
    "my_list = list(my_dict) # 사전 -> 리스트\n",
    "print(type(my_list))\n",
    "my_set_2 = set(my_tuple) # 튜플 -> 집합\n",
    "print(type(my_set_2))"
   ]
  }
 ],
 "metadata": {
  "kernelspec": {
   "display_name": "study",
   "language": "python",
   "name": "python3"
  },
  "language_info": {
   "codemirror_mode": {
    "name": "ipython",
    "version": 3
   },
   "file_extension": ".py",
   "mimetype": "text/x-python",
   "name": "python",
   "nbconvert_exporter": "python",
   "pygments_lexer": "ipython3",
   "version": "3.11.7"
  }
 },
 "nbformat": 4,
 "nbformat_minor": 2
}

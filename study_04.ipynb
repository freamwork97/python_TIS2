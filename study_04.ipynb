{
 "cells": [
  {
   "cell_type": "markdown",
   "metadata": {},
   "source": [
    "# 딕셔너리(dictionary)\n",
    "    - 백과사전을 볼 때 키워드와 내용이 담겨있는 것처럼\n",
    "    - key : value로 이루어져 있다.\n",
    "    - {key1 : value1, ket2 : value2, ....}\n",
    "    - 리스트[] 튜플() 딕셔너리{}\n",
    "    - key를 검색하여 value를 조회하는 것이 일반적이다.\n"
   ]
  },
  {
   "cell_type": "code",
   "execution_count": 1,
   "metadata": {},
   "outputs": [],
   "source": [
    "my_first_dict = {'Name' : 'Ho', 'Birth year' : 2023, 4.9:{'Hi': {'Hello'}}, ('Bongjour') : ['안녕']}"
   ]
  },
  {
   "cell_type": "code",
   "execution_count": 2,
   "metadata": {},
   "outputs": [
    {
     "name": "stdout",
     "output_type": "stream",
     "text": [
      "{'Name': 'Ho', 'Birth year': 2023, 4.9: {'Hi': {'Hello'}}, 'Bongjour': ['안녕']}\n",
      "<class 'dict'>\n"
     ]
    }
   ],
   "source": [
    "print(my_first_dict)\n",
    "print(type(my_first_dict))"
   ]
  },
  {
   "cell_type": "code",
   "execution_count": 8,
   "metadata": {},
   "outputs": [
    {
     "name": "stdout",
     "output_type": "stream",
     "text": [
      "{0: 1}\n",
      "{'Ho': 9, 'Kui': 4}\n"
     ]
    }
   ],
   "source": [
    "yes_tuple_key = {(0) : 1}\n",
    "print(yes_tuple_key)\n",
    "age = {'Ho' : 9}\n",
    "age['Kui'] =4\n",
    "print(age)"
   ]
  },
  {
   "cell_type": "code",
   "execution_count": 9,
   "metadata": {},
   "outputs": [
    {
     "name": "stdout",
     "output_type": "stream",
     "text": [
      "{'Kui': 4}\n"
     ]
    }
   ],
   "source": [
    "del age['Ho']\n",
    "print(age)"
   ]
  },
  {
   "cell_type": "code",
   "execution_count": 15,
   "metadata": {},
   "outputs": [
    {
     "name": "stdout",
     "output_type": "stream",
     "text": [
      "{'Kui': 4, ':Ho': 10, 'Ho': 10}\n"
     ]
    }
   ],
   "source": [
    "age['Ho'] = 10\n",
    "print(age)"
   ]
  },
  {
   "cell_type": "code",
   "execution_count": 14,
   "metadata": {},
   "outputs": [
    {
     "name": "stdout",
     "output_type": "stream",
     "text": [
      "{'Kui': 4, ':Ho': 10}\n"
     ]
    }
   ],
   "source": [
    "age_dict = {'Nubzuki': 8, 'Nubzuki' : 9, 'Nubzuki': 10 }\n",
    "print(age)"
   ]
  },
  {
   "cell_type": "code",
   "execution_count": 17,
   "metadata": {},
   "outputs": [
    {
     "name": "stdout",
     "output_type": "stream",
     "text": [
      "dict_keys(['Ho', 'Kui', 'Daro'])\n",
      "dict_values([9, 25, 53])\n",
      "dict_items([('Ho', 9), ('Kui', 25), ('Daro', 53)])\n",
      "No key, "
     ]
    }
   ],
   "source": [
    "age = {'Ho': 9, 'Kui' : 25, 'Daro' : 53}\n",
    "print(age.keys())\n",
    "print(age.values())\n",
    "print(age.items())\n",
    "print(age.get('kui','No key'), end=\", \")"
   ]
  },
  {
   "cell_type": "code",
   "execution_count": 18,
   "metadata": {},
   "outputs": [
    {
     "name": "stdout",
     "output_type": "stream",
     "text": [
      "No key, "
     ]
    }
   ],
   "source": [
    "print(age.get('Santa', 'No key'), end = ', ')"
   ]
  },
  {
   "cell_type": "code",
   "execution_count": 20,
   "metadata": {},
   "outputs": [
    {
     "name": "stdout",
     "output_type": "stream",
     "text": [
      "True, False\n"
     ]
    }
   ],
   "source": [
    "# in 연산자로 key가 존재하는 지 확인 가능\n",
    "print('Kui' in age, end = ', ')\n",
    "print('Santa' in age)"
   ]
  },
  {
   "cell_type": "code",
   "execution_count": null,
   "metadata": {},
   "outputs": [],
   "source": []
  }
 ],
 "metadata": {
  "kernelspec": {
   "display_name": "study",
   "language": "python",
   "name": "python3"
  },
  "language_info": {
   "codemirror_mode": {
    "name": "ipython",
    "version": 3
   },
   "file_extension": ".py",
   "mimetype": "text/x-python",
   "name": "python",
   "nbconvert_exporter": "python",
   "pygments_lexer": "ipython3",
   "version": "3.11.7"
  }
 },
 "nbformat": 4,
 "nbformat_minor": 2
}

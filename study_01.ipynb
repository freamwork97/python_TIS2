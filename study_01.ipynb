{
 "cells": [
  {
   "cell_type": "markdown",
   "metadata": {},
   "source": [
    "# Hello, Python!\n",
    "\n",
    "- print() : 괄호 안에 있는 내용 출력하는 명령어\n",
    "\n",
    "```python\n",
    "print('Hello, World!')    \n",
    "```\n",
    "- input() : 입력한 것을 반환하는 명령어\n",
    "```python\n",
    "input()\n",
    "```\n",
    "- 기본적으로 실행은 위에서부터 순차적으로 실행된다\n",
    "- 디버깅 : 버그를 찾고 고치는 작업\n",
    "    - Syntax error : 파이썬이 프로그램을 이해 못해서 실행이 안되는 오류\n",
    "    - Runtime error : 프로그램 실행 중 여러 메시지가 뜨고 프로그램이 종료되는 오류\n",
    "    - Semantic error : 프로그램 실행 중 에러 메시지 없지만 예상치 못한 결과가 나오는 오류 "
   ]
  },
  {
   "cell_type": "code",
   "execution_count": 1,
   "metadata": {},
   "outputs": [
    {
     "name": "stdout",
     "output_type": "stream",
     "text": [
      "Hello, World!\n"
     ]
    }
   ],
   "source": [
    "print('Hello, World!')"
   ]
  },
  {
   "cell_type": "code",
   "execution_count": 2,
   "metadata": {},
   "outputs": [
    {
     "name": "stdout",
     "output_type": "stream",
     "text": [
      "Hello, World 1!\n",
      "Hello, World 2!\n",
      "Hello, World 3!\n",
      "Hello, World 4!\n"
     ]
    }
   ],
   "source": [
    "print('Hello, World 1!')\n",
    "print('Hello, World 2!')\n",
    "print('Hello, World 3!')\n",
    "print('Hello, World 4!')"
   ]
  },
  {
   "cell_type": "code",
   "execution_count": 3,
   "metadata": {},
   "outputs": [
    {
     "name": "stdout",
     "output_type": "stream",
     "text": [
      "6\n",
      "0\n",
      "9\n",
      "18\n",
      "5.666666666666667\n"
     ]
    }
   ],
   "source": [
    "print(3 + 3) # 더하기\n",
    "print(3 - 3) # 빼기\n",
    "print(3 * 3) # 곱하기\n",
    "print(30 - 2 * 6)\n",
    "print(17 / 3) # 나누기"
   ]
  }
 ],
 "metadata": {
  "kernelspec": {
   "display_name": "study",
   "language": "python",
   "name": "python3"
  },
  "language_info": {
   "codemirror_mode": {
    "name": "ipython",
    "version": 3
   },
   "file_extension": ".py",
   "mimetype": "text/x-python",
   "name": "python",
   "nbconvert_exporter": "python",
   "pygments_lexer": "ipython3",
   "version": "3.11.7"
  }
 },
 "nbformat": 4,
 "nbformat_minor": 2
}

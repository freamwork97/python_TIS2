{
 "cells": [
  {
   "cell_type": "markdown",
   "metadata": {},
   "source": [
    "# 리스트(List)\n",
    "    - 반복 가능\n",
    "    - 원소 자료형 무관\n",
    "    - 데이터 변경 가능 (내부 데이터 수정 삭제가 자유롭다)\n",
    "    - 인덱싱과 슬라이싱을 통해 내부 원소에 접근\n",
    "    - 리스트 내부 원소들의 자료형은 일관되지 않아도 된다\n",
    "    - 어떠한 자료형을 가지는지 신경 쓰지 않아도 된다\n",
    "# 튜플(Tuple)\n",
    "    - 변경 불가능 (내부 데이터 수정 삭제 불가능)\n",
    "    - 반복 가능\n",
    "    - 원소 자료형 무관\n",
    "    - 내부 원소들의 자료형은 일관되지 않아도 된다\n",
    "    - 어떠한 자료형을 가지는지 신경 쓰지 않아도 된다"
   ]
  },
  {
   "cell_type": "code",
   "execution_count": 1,
   "metadata": {},
   "outputs": [
    {
     "name": "stdout",
     "output_type": "stream",
     "text": [
      "<class 'list'>\n"
     ]
    }
   ],
   "source": [
    "my_first_list = [0, 1, 2, 3, 4, 5]\n",
    "print(type(my_first_list))"
   ]
  },
  {
   "cell_type": "code",
   "execution_count": 2,
   "metadata": {},
   "outputs": [
    {
     "name": "stdout",
     "output_type": "stream",
     "text": [
      "6\n"
     ]
    }
   ],
   "source": [
    "print(len(my_first_list))"
   ]
  },
  {
   "cell_type": "code",
   "execution_count": 3,
   "metadata": {},
   "outputs": [
    {
     "name": "stdout",
     "output_type": "stream",
     "text": [
      "0 1 2 3 4 5 "
     ]
    }
   ],
   "source": [
    "for i in my_first_list:\n",
    "    print(i, end =\" \")"
   ]
  },
  {
   "cell_type": "code",
   "execution_count": 4,
   "metadata": {},
   "outputs": [
    {
     "name": "stdout",
     "output_type": "stream",
     "text": [
      "0\n",
      "5\n",
      "3\n"
     ]
    }
   ],
   "source": [
    "print(my_first_list[0]) # 0번째 원소\n",
    "print(my_first_list[-1]) # 마지막 원소\n",
    "print(my_first_list[-3]) # 뒤에서 3번째 원소"
   ]
  },
  {
   "cell_type": "code",
   "execution_count": 5,
   "metadata": {},
   "outputs": [
    {
     "name": "stdout",
     "output_type": "stream",
     "text": [
      "[0, 1, 2]\n",
      "<class 'list'>\n",
      "[2]\n",
      "<class 'list'>\n",
      "[0, 1, 2, 3, 4, 5]\n",
      "<class 'list'>\n"
     ]
    }
   ],
   "source": [
    "print(my_first_list[0:3]) # 0 이상 3 미만의 인덱스의 원소들 슬라이싱\n",
    "print(type(my_first_list[0:3]))\n",
    "print(my_first_list[2:3])\n",
    "print(type(my_first_list[2:3]))\n",
    "print(my_first_list[:]) # 전체 원소\n",
    "print(type(my_first_list[:]))"
   ]
  },
  {
   "cell_type": "code",
   "execution_count": 6,
   "metadata": {},
   "outputs": [
    {
     "name": "stdout",
     "output_type": "stream",
     "text": [
      "[2, 3, 4]\n",
      "[2, 3, 4]\n",
      "[2, 4]\n"
     ]
    }
   ],
   "source": [
    "print(my_first_list[2:5])\n",
    "print(my_first_list[2:5:1]) # 2번 인덱스부터 4번 인덱스까지 1칸씩\n",
    "print(my_first_list[2:5:2]) # 2번 인덱스부터 4번 인덱스까지 2칸씩"
   ]
  },
  {
   "cell_type": "code",
   "execution_count": 7,
   "metadata": {},
   "outputs": [
    {
     "name": "stdout",
     "output_type": "stream",
     "text": [
      "['python', 1, 2, 3, 4, 5]\n"
     ]
    }
   ],
   "source": [
    "my_first_list[0] = 'python' # 0번 인덱스 python으로 수정\n",
    "print(my_first_list)"
   ]
  },
  {
   "cell_type": "code",
   "execution_count": 8,
   "metadata": {},
   "outputs": [
    {
     "name": "stdout",
     "output_type": "stream",
     "text": [
      "['python', 1, 2, '0']\n"
     ]
    }
   ],
   "source": [
    "my_first_list[3:]=\"0\" # 3번 인덱스 이후는 \"0\"으로 \n",
    "print(my_first_list)"
   ]
  },
  {
   "cell_type": "code",
   "execution_count": 9,
   "metadata": {},
   "outputs": [
    {
     "name": "stdout",
     "output_type": "stream",
     "text": [
      "H\n",
      "llo\n"
     ]
    }
   ],
   "source": [
    "string_eample = 'Hello'\n",
    "print(string_eample[0])\n",
    "print(string_eample[2:])"
   ]
  },
  {
   "cell_type": "code",
   "execution_count": 10,
   "metadata": {},
   "outputs": [
    {
     "name": "stdout",
     "output_type": "stream",
     "text": [
      "['H', 'e', 'l', 'l', 'o']\n"
     ]
    }
   ],
   "source": [
    "list_example = list(string_eample) # 리스트 내장 함수를 활용하여 형 변환\n",
    "print(list_example)"
   ]
  },
  {
   "cell_type": "code",
   "execution_count": 11,
   "metadata": {},
   "outputs": [
    {
     "name": "stdout",
     "output_type": "stream",
     "text": [
      "hello\n"
     ]
    }
   ],
   "source": [
    "list_example[0] = 'h'\n",
    "string_eample= \"\".join(list_example)\n",
    "print(string_eample)"
   ]
  },
  {
   "cell_type": "code",
   "execution_count": 12,
   "metadata": {},
   "outputs": [
    {
     "name": "stdout",
     "output_type": "stream",
     "text": [
      "['A', None, 3, 4.01, [5]]\n"
     ]
    }
   ],
   "source": [
    "my_second_list = ['A', None, 3,4.01, [5]]\n",
    "print(my_second_list)"
   ]
  },
  {
   "cell_type": "code",
   "execution_count": 13,
   "metadata": {},
   "outputs": [
    {
     "name": "stdout",
     "output_type": "stream",
     "text": [
      "A None 3 4.01 [5] "
     ]
    }
   ],
   "source": [
    "for i in my_second_list:\n",
    "    print(i, end=' ')"
   ]
  },
  {
   "cell_type": "code",
   "execution_count": 14,
   "metadata": {},
   "outputs": [
    {
     "name": "stdout",
     "output_type": "stream",
     "text": [
      "[5]\n"
     ]
    }
   ],
   "source": [
    "print(my_second_list[-1])"
   ]
  },
  {
   "cell_type": "code",
   "execution_count": null,
   "metadata": {},
   "outputs": [],
   "source": []
  }
 ],
 "metadata": {
  "kernelspec": {
   "display_name": "study",
   "language": "python",
   "name": "python3"
  },
  "language_info": {
   "codemirror_mode": {
    "name": "ipython",
    "version": 3
   },
   "file_extension": ".py",
   "mimetype": "text/x-python",
   "name": "python",
   "nbconvert_exporter": "python",
   "pygments_lexer": "ipython3",
   "version": "3.11.7"
  }
 },
 "nbformat": 4,
 "nbformat_minor": 2
}

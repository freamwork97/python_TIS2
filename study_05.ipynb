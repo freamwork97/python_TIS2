{
 "cells": [
  {
   "cell_type": "markdown",
   "metadata": {},
   "source": [
    "# 조건문\n",
    "```python\n",
    "if 조건 :\n",
    "    코드\n",
    "\n",
    "if 조건1 and 조건2:\n",
    "    # 조건1과 조건2가 모두 참일 때 실행\n",
    "elif 조건1 or 조건2:\n",
    "    # 조건1과 조건2 둘 중 하나라도 참일 때 실행\n",
    "elif not 조건1:\n",
    "    # 조건1이 거짓일 때 실행\n",
    "else:\n",
    "    # 위에서 실행되지 않았을 때 실행\n",
    "\n",
    "if 조건1:\n",
    "    if 조건2:\n",
    "        # 조건1과 조건2가 모두 참일 때\n",
    "    else:\n",
    "        # 조건1은 참이지만 조건2는 거짓일 때\n",
    "else:\n",
    "    if 조건2:\n",
    "        # 조건1은 거짓이지만 조건2는 참일 때\n",
    "    else:\n",
    "        # 조건1과 조건2 모두 거짓일 때\n",
    "```"
   ]
  },
  {
   "cell_type": "code",
   "execution_count": 1,
   "metadata": {},
   "outputs": [
    {
     "name": "stdout",
     "output_type": "stream",
     "text": [
      "성인입니다\n"
     ]
    }
   ],
   "source": [
    "age = 20\n",
    "if age >= 19:\n",
    "    print('성인입니다')"
   ]
  },
  {
   "cell_type": "code",
   "execution_count": 2,
   "metadata": {},
   "outputs": [
    {
     "name": "stdout",
     "output_type": "stream",
     "text": [
      "잘자요\n"
     ]
    }
   ],
   "source": [
    "day = '토요일'\n",
    "time = '06:00'\n",
    "if day in ['토요일', '일요일'] and time == '06:00': # day가 토요일이거나 일요일이면서 time이 06:00일 때 실행\n",
    "    print('잘자요')\n",
    "else:\n",
    "    print('일어나요')"
   ]
  },
  {
   "cell_type": "code",
   "execution_count": 3,
   "metadata": {},
   "outputs": [
    {
     "name": "stdout",
     "output_type": "stream",
     "text": [
      "잘자요\n"
     ]
    }
   ],
   "source": [
    "day = '월요일'\n",
    "holiday = True\n",
    "if day in ['토요일', '일요일']:\n",
    "    print('잘자요')\n",
    "elif holiday:\n",
    "    print('잘자요')\n",
    "else:\n",
    "    print('일어나요')"
   ]
  },
  {
   "cell_type": "code",
   "execution_count": 5,
   "metadata": {},
   "outputs": [
    {
     "name": "stdout",
     "output_type": "stream",
     "text": [
      "청소년\n"
     ]
    }
   ],
   "source": [
    "age = 15\n",
    "if age > 20:\n",
    "    print('성인')\n",
    "elif age > 10:\n",
    "    print('청소년')"
   ]
  },
  {
   "cell_type": "code",
   "execution_count": 7,
   "metadata": {},
   "outputs": [
    {
     "name": "stdout",
     "output_type": "stream",
     "text": [
      "C\n"
     ]
    }
   ],
   "source": [
    "score = 75\n",
    "grade = \"\"\n",
    "if score >= 80:\n",
    "    grade = \"B\"\n",
    "elif score >= 70:\n",
    "    grade = \"C\"\n",
    "print(grade)"
   ]
  },
  {
   "cell_type": "code",
   "execution_count": 9,
   "metadata": {},
   "outputs": [
    {
     "name": "stdout",
     "output_type": "stream",
     "text": [
      "리스트에 요소가 있습니다.\n"
     ]
    }
   ],
   "source": [
    "my_list = [1, 2, 3]\n",
    "if my_list: \n",
    "    print(\"리스트에 요소가 있습니다.\")\n",
    "else:\n",
    "    print(\"리스트가 비어 있습니다.\")"
   ]
  }
 ],
 "metadata": {
  "kernelspec": {
   "display_name": "study",
   "language": "python",
   "name": "python3"
  },
  "language_info": {
   "codemirror_mode": {
    "name": "ipython",
    "version": 3
   },
   "file_extension": ".py",
   "mimetype": "text/x-python",
   "name": "python",
   "nbconvert_exporter": "python",
   "pygments_lexer": "ipython3",
   "version": "3.11.7"
  }
 },
 "nbformat": 4,
 "nbformat_minor": 2
}
